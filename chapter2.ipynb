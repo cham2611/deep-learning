{
  "nbformat": 4,
  "nbformat_minor": 0,
  "metadata": {
    "colab": {
      "provenance": [],
      "toc_visible": true
    },
    "kernelspec": {
      "name": "python3",
      "display_name": "Python 3"
    },
    "language_info": {
      "name": "python"
    }
  },
  "cells": [
    {
      "cell_type": "code",
      "execution_count": null,
      "metadata": {
        "colab": {
          "base_uri": "https://localhost:8080/"
        },
        "id": "b7OrFQmQmwQg",
        "outputId": "beb76cd9-642f-464a-c292-2f878f1edcd5"
      },
      "outputs": [
        {
          "output_type": "execute_result",
          "data": {
            "text/plain": [
              "1"
            ]
          },
          "metadata": {},
          "execution_count": 7
        }
      ],
      "source": [
        "def AND(x1, x2):\n",
        "    w1, w2, theta = 0.5, 0.5, 0.7\n",
        "    tmp=x1*w1+x2*w2\n",
        "    if tmp <= theta:\n",
        "      return 0\n",
        "    elif tmp> theta:\n",
        "      return 1\n",
        "# AND(0,0) 0\n",
        "# AND(1,0) 0\n",
        "# AND(0,1) 0\n",
        "# AND(1,1) 1"
      ]
    },
    {
      "cell_type": "code",
      "source": [
        "import numpy as np\n",
        "x=np.array([0,1]) # 입력\n",
        "w=np.array([0.5,0.5]) # 가중치\n",
        "b= -0.7 # 편향\n",
        "\n",
        "w*x #array([0. , 0.5])\n",
        "np.sum(w*x) #0.5\n",
        "np.sum(w*x)+b # -0.19999999999999996 -> -0.2"
      ],
      "metadata": {
        "colab": {
          "base_uri": "https://localhost:8080/"
        },
        "id": "aFrF0R8V38u2",
        "outputId": "213f01b2-5f73-4bd8-f77c-5ed0df9bb34b"
      },
      "execution_count": null,
      "outputs": [
        {
          "output_type": "execute_result",
          "data": {
            "text/plain": [
              "-0.19999999999999996"
            ]
          },
          "metadata": {},
          "execution_count": 10
        }
      ]
    },
    {
      "cell_type": "code",
      "source": [
        "import numpy as np\n",
        "\n",
        "def AND(x1, x2):\n",
        "    x= np.array([x1,x2])\n",
        "    w= np.array([0.5,0.5])\n",
        "    b=-0.7\n",
        "    tmp =np.sum(w*x)+b\n",
        "\n",
        "    if tmp <= 0:\n",
        "      return 0\n",
        "    else:\n",
        "      return 1\n"
      ],
      "metadata": {
        "id": "ABjvPsGE72Ub"
      },
      "execution_count": null,
      "outputs": []
    },
    {
      "cell_type": "code",
      "source": [
        "import numpy as np\n",
        "\n",
        "def AND(x1, x2):\n",
        "    x= np.array([x1,x2])\n",
        "    w= np.array([0.5,0.5])\n",
        "    b=-0.7\n",
        "    tmp =np.sum(w*x)+b\n",
        "\n",
        "    if tmp <= 0:\n",
        "      return 0\n",
        "    else:\n",
        "      return 1"
      ],
      "metadata": {
        "id": "r0ceO1MJ8tQT"
      },
      "execution_count": null,
      "outputs": []
    },
    {
      "cell_type": "code",
      "source": [
        "import numpy as np\n",
        "\n",
        "def NAND(x1, x2):\n",
        "    x= np.array([x1,x2])\n",
        "    w= np.array([-0.5,-0.5])\n",
        "    b=0.7\n",
        "    tmp =np.sum(w*x)+b\n",
        "\n",
        "    if tmp <= 0:\n",
        "      return 0\n",
        "    else:\n",
        "      return 1\n"
      ],
      "metadata": {
        "id": "J7QPAdxi9Mr7"
      },
      "execution_count": null,
      "outputs": []
    },
    {
      "cell_type": "code",
      "source": [
        "import numpy as np\n",
        "\n",
        "def OR(x1, x2):\n",
        "    x= np.array([x1,x2])\n",
        "    w= np.array([0.5,0.5])\n",
        "    b= -0.2\n",
        "    tmp =np.sum(w*x)+b\n",
        "\n",
        "    if tmp <= 0:\n",
        "      return 0\n",
        "    else:\n",
        "      return 1"
      ],
      "metadata": {
        "id": "KIrRWWBd9brr"
      },
      "execution_count": null,
      "outputs": []
    },
    {
      "cell_type": "code",
      "source": [
        "import numpy as np\n",
        "\n",
        "def OR(x1, x2):\n",
        "    x= np.array([x1,x2])\n",
        "    w= np.array([0.5,0.5])\n",
        "    b= -0.2\n",
        "    tmp =np.sum(w*x)+b\n",
        "\n",
        "    if tmp <= 0:\n",
        "      return 0\n",
        "    else:\n",
        "      return 1\n",
        "\n",
        "def NAND(x1, x2):\n",
        "    x= np.array([x1,x2])\n",
        "    w= np.array([-0.5,-0.5])\n",
        "    b=0.7\n",
        "    tmp =np.sum(w*x)+b\n",
        "\n",
        "    if tmp <= 0:\n",
        "      return 0\n",
        "    else:\n",
        "      return 1\n",
        "\n",
        "def AND(x1, x2):\n",
        "    x= np.array([x1,x2])\n",
        "    w= np.array([0.5,0.5])\n",
        "    b=-0.7\n",
        "    tmp =np.sum(w*x)+b\n",
        "\n",
        "    if tmp <= 0:\n",
        "      return 0\n",
        "    else:\n",
        "      return 1\n",
        "\n",
        "def XOR(x1, x2):\n",
        "  s1= NAND(x1, x2)\n",
        "  s2= OR(x1,x2)\n",
        "  y= AND(s1,s2)\n",
        "  return y\n",
        "\n",
        "XOR(1,1)"
      ],
      "metadata": {
        "colab": {
          "base_uri": "https://localhost:8080/"
        },
        "id": "ua9GqC7bCTS_",
        "outputId": "fd030f5f-317e-47b9-d022-65d24cb756dc"
      },
      "execution_count": null,
      "outputs": [
        {
          "output_type": "execute_result",
          "data": {
            "text/plain": [
              "0"
            ]
          },
          "metadata": {},
          "execution_count": 17
        }
      ]
    }
  ]
}